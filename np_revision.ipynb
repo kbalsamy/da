{
  "cells": [
    {
      "cell_type": "code",
      "execution_count": 1,
      "metadata": {
        "id": "voI0Sg9-48C5"
      },
      "outputs": [],
      "source": [
        "import numpy as np\n",
        "import pandas as pd\n",
        "import matplotlib.pyplot as plt\n",
        "%matplotlib inline"
      ]
    },
    {
      "cell_type": "code",
      "execution_count": 2,
      "metadata": {
        "id": "ZpX1X58W48C7",
        "outputId": "d2073201-867b-4be7-eafd-256d7cecd694",
        "colab": {
          "base_uri": "https://localhost:8080/"
        }
      },
      "outputs": [
        {
          "output_type": "stream",
          "name": "stdout",
          "text": [
            "[1 2 3 4]\n",
            "4\n",
            "1\n",
            "(4,)\n",
            "int64\n"
          ]
        }
      ],
      "source": [
        "# np array creation and usefull properties\n",
        "\n",
        "a = np.array([1,2,3,4])\n",
        "print(a)\n",
        "print(a.size)\n",
        "print(a.ndim)\n",
        "print(a.shape)\n",
        "print(a.dtype)"
      ]
    },
    {
      "cell_type": "code",
      "execution_count": 3,
      "metadata": {
        "id": "hUkJEDCD48C8",
        "outputId": "f5a8ce61-1644-4c12-ee3d-839f1f56b311",
        "colab": {
          "base_uri": "https://localhost:8080/"
        }
      },
      "outputs": [
        {
          "output_type": "stream",
          "name": "stdout",
          "text": [
            "[[1 3 4]\n",
            " [5 6 7]]\n",
            "2\n",
            "(2, 3)\n",
            "6\n"
          ]
        }
      ],
      "source": [
        "# to create 2D array\n",
        "\n",
        "b = np.array([[1,3,4],[5,6,7]])\n",
        "print(b)\n",
        "print(b.ndim)\n",
        "print(b.shape)\n",
        "print(b.size)"
      ]
    },
    {
      "cell_type": "code",
      "execution_count": 6,
      "metadata": {
        "id": "eKVHB5e148C8",
        "outputId": "db255c58-f6d5-4225-ed52-f75d2ea6a57d",
        "colab": {
          "base_uri": "https://localhost:8080/"
        }
      },
      "outputs": [
        {
          "output_type": "execute_result",
          "data": {
            "text/plain": [
              "array([[[ 1,  2],\n",
              "        [ 3,  4],\n",
              "        [ 5,  6],\n",
              "        [ 7,  8]],\n",
              "\n",
              "       [[ 9, 10],\n",
              "        [11, 12],\n",
              "        [13, 14],\n",
              "        [15, 16]]])"
            ]
          },
          "metadata": {},
          "execution_count": 6
        }
      ],
      "source": [
        "np.arange(1,17).reshape(2,4,2)\n"
      ]
    },
    {
      "cell_type": "code",
      "execution_count": 14,
      "metadata": {
        "id": "TRePfIVd48C9",
        "outputId": "dee03a6b-dc86-4fb3-9cc1-09c92d50d1a0",
        "colab": {
          "base_uri": "https://localhost:8080/"
        }
      },
      "outputs": [
        {
          "output_type": "stream",
          "name": "stdout",
          "text": [
            "[[1 2 3]\n",
            " [4 5 6]\n",
            " [7 8 9]]\n",
            "(3, 3)\n",
            "[[1 2 3 4]\n",
            " [5 6 7 8]]\n",
            "[[1 2 3 4]\n",
            " [5 6 7 8]]\n"
          ]
        }
      ],
      "source": [
        "# it is possible to create a numpy array with list of list or tuples of tuples or combination of\n",
        "# list of tuples and list\n",
        "\n",
        "c = np.array([[1,2,3], (4,5,6), [7,8,9]])\n",
        "print(c)\n",
        "print(c.shape)\n",
        "\n",
        "ca = np.array(((1,2,3,4),(5,6,7,8)))\n",
        "print(ca)\n",
        "\n",
        "\n",
        "cb = np.array([[1,2,3,4], (5,6,7,8)])\n",
        "print(cb)"
      ]
    },
    {
      "cell_type": "code",
      "execution_count": 19,
      "metadata": {
        "id": "o3JeT6Fk48C9",
        "outputId": "617c10de-11b4-4304-bfeb-638158048083",
        "colab": {
          "base_uri": "https://localhost:8080/"
        }
      },
      "outputs": [
        {
          "output_type": "stream",
          "name": "stdout",
          "text": [
            "[[1.+0.j 3.+0.j 4.+0.j]\n",
            " [5.+0.j 6.+0.j 7.+0.j]]\n",
            "[1. 2. 3.]\n"
          ]
        }
      ],
      "source": [
        "# Datatype can also be defined during creation of array by passing dtype as a named argument\n",
        "#  explicit data-type define while creation of arrray\n",
        "\n",
        "d = np.array([[1,3,4], [5,6,7]], dtype='complex')\n",
        "print(d)\n",
        "\n",
        "da = np.array([1,2,3], dtype=\"float\")\n",
        "\n",
        "print(da)"
      ]
    },
    {
      "cell_type": "code",
      "execution_count": null,
      "metadata": {
        "id": "tpTqcs0R48C9",
        "outputId": "cb9f656a-6cdf-4250-a423-867fadb4918d"
      },
      "outputs": [
        {
          "name": "stdout",
          "output_type": "stream",
          "text": [
            "[0. 0.]\n",
            "[[0. 0. 0.]\n",
            " [0. 0. 0.]\n",
            " [0. 0. 0.]]\n",
            "[[1. 1. 1. 1. 1.]\n",
            " [1. 1. 1. 1. 1.]\n",
            " [1. 1. 1. 1. 1.]\n",
            " [1. 1. 1. 1. 1.]\n",
            " [1. 1. 1. 1. 1.]]\n",
            "[0 1 2 3 4 5 6 7 8 9]\n",
            "[0 2 4 6 8]\n"
          ]
        }
      ],
      "source": [
        "# intrinsic functions to create of array\n",
        "\n",
        "fa = np.zeros((2,))\n",
        "\n",
        "print(fa)\n",
        "\n",
        "\n",
        "#   bydefault datatype is set to float64\n",
        "f = np.zeros((3,3))\n",
        "print(f)\n",
        "\n",
        "g = np.ones((5,5))\n",
        "print(g)\n",
        "\n",
        "# the most prefrable way to create array with range of number sequence or NUMERICAL SEQUENCES>\n",
        "\n",
        "h = np.arange(0,10)\n",
        "print(h)\n",
        "\n",
        "#  to generate sequence with precise interval\n",
        "\n",
        "i = np.arange(0,10,2)\n",
        "print(i)"
      ]
    },
    {
      "cell_type": "code",
      "execution_count": null,
      "metadata": {
        "id": "f5Qhzxik48C9",
        "outputId": "22ac99dc-2873-485d-dd65-85340293c89f"
      },
      "outputs": [
        {
          "name": "stdout",
          "output_type": "stream",
          "text": [
            "[[ 0  1  2  3]\n",
            " [ 4  5  6  7]\n",
            " [ 8  9 10 11]\n",
            " [12 13 14 15]]\n"
          ]
        }
      ],
      "source": [
        "# create multi-dimentional array with range of values\n",
        "\n",
        "j = np.arange(0,16).reshape(4,4)\n",
        "print(j)"
      ]
    },
    {
      "cell_type": "code",
      "execution_count": null,
      "metadata": {
        "id": "8nnf2VBG48C-",
        "outputId": "998c313e-d004-4297-c7de-5d93f4607405"
      },
      "outputs": [
        {
          "name": "stdout",
          "output_type": "stream",
          "text": [
            "[ 0.  2.  4.  6.  8. 10.]\n"
          ]
        },
        {
          "data": {
            "text/plain": [
              "[<matplotlib.lines.Line2D at 0x24fcaf6e6d0>]"
            ]
          },
          "execution_count": 9,
          "metadata": {},
          "output_type": "execute_result"
        },
        {
          "data": {
            "image/png": "[encoded data removed]",
            "text/plain": [
              "<Figure size 432x288 with 1 Axes>"
            ]
          },
          "metadata": {
            "needs_background": "light"
          },
          "output_type": "display_data"
        }
      ],
      "source": [
        "# linspace() method is used to create sequence of number array i.e linearly spaced and it takes third argumnt\n",
        "# which defines number of elements to be generated within the given range\n",
        "\n",
        "k = np.linspace(0,10, 6)\n",
        "print(k)\n",
        "plt.plot(k)"
      ]
    },
    {
      "cell_type": "code",
      "execution_count": null,
      "metadata": {
        "id": "1nOf12Tk48C-",
        "outputId": "4fd607c1-0d81-4a3e-debe-ccfc09162843"
      },
      "outputs": [
        {
          "name": "stdout",
          "output_type": "stream",
          "text": [
            "[0.1709329  0.45061892 0.90936793 0.71647466 0.65733749 0.65335498\n",
            " 0.12448465 0.31239699 0.38660353 0.82589471 0.74534545 0.02424168]\n",
            "[[0.1709329  0.45061892 0.90936793 0.71647466]\n",
            " [0.65733749 0.65335498 0.12448465 0.31239699]\n",
            " [0.38660353 0.82589471 0.74534545 0.02424168]]\n"
          ]
        }
      ],
      "source": [
        "# to generate random array\n",
        "# np.random.seed(1293939)\n",
        "l = np.random.random(12)\n",
        "print(l)\n",
        "\n",
        "print(l.reshape(3,4))"
      ]
    },
    {
      "cell_type": "code",
      "execution_count": null,
      "metadata": {
        "id": "4PIU_OLv48C-",
        "outputId": "a95bba98-7046-4d6e-a8f6-896b8a51698e"
      },
      "outputs": [
        {
          "name": "stdout",
          "output_type": "stream",
          "text": [
            "[0 1 2 3 4] [ 6  7  8  9 10]\n",
            "[ 6  8 10 12 14]\n",
            "[-6 -6 -6 -6 -6]\n",
            "[ 0  7 16 27 40]\n",
            "[0.         0.14285714 0.25       0.33333333 0.4       ]\n"
          ]
        }
      ],
      "source": [
        "# basic operations\n",
        "# airthmatic operations - these operations are applied elementwise\n",
        "# to add\n",
        "m = np.arange(0,5)\n",
        "n = np.arange(6,11)\n",
        "print(m,n)\n",
        "print(m+n)\n",
        "print(m-n)\n",
        "print(m*n)\n",
        "print(m/n)\n"
      ]
    },
    {
      "cell_type": "code",
      "execution_count": null,
      "metadata": {
        "id": "l1X8ru6148C-",
        "outputId": "b34abe3f-ac3b-4f9c-fa5d-7c5a3c581dda"
      },
      "outputs": [
        {
          "name": "stdout",
          "output_type": "stream",
          "text": [
            "[[0 1 2 3 4]\n",
            " [5 6 7 8 9]]\n",
            "[[1. 1. 1. 1. 1.]\n",
            " [1. 1. 1. 1. 1.]]\n",
            "2\n",
            "2\n",
            "[[0. 1. 2. 3. 4.]\n",
            " [5. 6. 7. 8. 9.]]\n"
          ]
        }
      ],
      "source": [
        "# Airthmatic operations - multi-dimensional array\n",
        "\n",
        "# Arithmatic opertion are performed element wise\n",
        "\n",
        "o = np.arange(0,10).reshape(2,5)\n",
        "p = np.ones((2,5))\n",
        "print(o)\n",
        "print(p)\n",
        "print(o.ndim)\n",
        "print(p.ndim)\n",
        "\n",
        "\n",
        "print(o*p)\n"
      ]
    },
    {
      "cell_type": "code",
      "execution_count": null,
      "metadata": {
        "id": "fgR5PrZv48C-",
        "outputId": "0106fff5-de2e-48cb-9c2e-a320eb523d65"
      },
      "outputs": [
        {
          "name": "stdout",
          "output_type": "stream",
          "text": [
            "[[1 2 3]\n",
            " [4 5 6]\n",
            " [7 8 9]] [[1 2 3]\n",
            " [4 5 6]\n",
            " [7 8 9]]\n"
          ]
        },
        {
          "data": {
            "text/plain": [
              "array([[ 30,  36,  42],\n",
              "       [ 66,  81,  96],\n",
              "       [102, 126, 150]])"
            ]
          },
          "execution_count": 13,
          "metadata": {},
          "output_type": "execute_result"
        }
      ],
      "source": [
        "# but matrix product\n",
        "\n",
        "one = np.arange(1,10).reshape(3,3)\n",
        "two = np.arange(1,10).reshape(3,3)\n",
        "print(one, two)\n",
        "\n",
        "np.dot(one,two)\n",
        "\n",
        "one@two"
      ]
    },
    {
      "cell_type": "code",
      "execution_count": null,
      "metadata": {
        "id": "g8uUACox48C_",
        "outputId": "832b43f3-01b2-4e29-85b0-0839f6a74545"
      },
      "outputs": [
        {
          "data": {
            "text/plain": [
              "array([[0., 0., 0., 0., 0.],\n",
              "       [0., 0., 0., 0., 0.]])"
            ]
          },
          "execution_count": 14,
          "metadata": {},
          "output_type": "execute_result"
        }
      ],
      "source": [
        "p.dot(0)"
      ]
    },
    {
      "cell_type": "code",
      "execution_count": null,
      "metadata": {
        "id": "VhFX5PpJ48C_",
        "outputId": "7a7df528-0f5b-4fd1-cbbc-b237bc3d1f63"
      },
      "outputs": [
        {
          "name": "stdout",
          "output_type": "stream",
          "text": [
            "[0 1 2 3 4 5 6 7 8 9]\n",
            "[ 1  2  3  4  5  6  7  8  9 10]\n"
          ]
        }
      ],
      "source": [
        "# increment and decrement operators\n",
        "\n",
        "n1 = np.arange(0,10)\n",
        "\n",
        "print(n1)\n",
        "\n",
        "n1 +=1 # reassign values to the orignal array\n",
        "\n",
        "print(n1)"
      ]
    },
    {
      "cell_type": "code",
      "execution_count": null,
      "metadata": {
        "id": "GiCiNq4-48C_",
        "outputId": "bef2ef2c-343b-49a5-a523-89d4f888270c"
      },
      "outputs": [
        {
          "name": "stdout",
          "output_type": "stream",
          "text": [
            "[2 3 4 5 6 7]\n",
            "[1.41421356 1.73205081 2.         2.23606798 2.44948974 2.64575131]\n",
            "[[0.         1.         1.41421356 1.73205081 2.        ]\n",
            " [2.23606798 2.44948974 2.64575131 2.82842712 3.        ]]\n"
          ]
        }
      ],
      "source": [
        "# universal functions\n",
        "#  u-func operates on array in element -by -element fashion\n",
        "q = np.arange(2,8)\n",
        "print(q)\n",
        "print(np.sqrt(q))\n",
        "\n",
        "# function takes each element from the given array then applies function's logics on it.\n",
        "\n",
        "q1=np.arange(0,10).reshape(2,5)\n",
        "\n",
        "print(np.sqrt(q1))\n",
        "\n"
      ]
    },
    {
      "cell_type": "code",
      "execution_count": null,
      "metadata": {
        "id": "rAp3PMGa48C_",
        "outputId": "8b19d845-a110-422a-a917-323259ce3398"
      },
      "outputs": [
        {
          "name": "stdout",
          "output_type": "stream",
          "text": [
            "5.0\n",
            "45\n",
            "2.581988897471611\n",
            "5.0\n",
            "45\n"
          ]
        }
      ],
      "source": [
        "# Aggregate functions\n",
        "\n",
        "r = np.arange(1,10)\n",
        "\n",
        "print(np.mean(r))\n",
        "print(np.sum(r))\n",
        "print(np.std(r))\n",
        "print(np.average(r))\n",
        "\n",
        "r1 = np.arange(0,10).reshape(2,5)\n",
        "\n",
        "print(np.sum(r1))"
      ]
    },
    {
      "cell_type": "code",
      "execution_count": null,
      "metadata": {
        "id": "oy115_s448C_",
        "outputId": "ac610dba-657f-42c5-a4cd-207e53b9d32f"
      },
      "outputs": [
        {
          "name": "stdout",
          "output_type": "stream",
          "text": [
            "[22 23 24 25 26 27 28 29 30 31]\n",
            "28\n",
            "[22 24 26 28 30]\n",
            "31\n"
          ]
        }
      ],
      "source": [
        "# numpy manipulation - Indexing, Slicing, and Iterating\n",
        "# Indexing\n",
        "\n",
        "s = np.arange(22,32)\n",
        "print(s)\n",
        "# to grap sixth element\n",
        "print(s[6])\n",
        "# to grap range of index elements\n",
        "t = np.arange(0,10,2)\n",
        "\n",
        "print(s[t])\n",
        "\n",
        "# to grap last item\n",
        "\n",
        "print(s[-1])\n"
      ]
    },
    {
      "cell_type": "code",
      "execution_count": null,
      "metadata": {
        "id": "-S_ixVOZ48C_",
        "outputId": "c9a8add5-ee3b-43c5-a741-03399d593379"
      },
      "outputs": [
        {
          "name": "stdout",
          "output_type": "stream",
          "text": [
            "[[50 51 52 53 54]\n",
            " [55 56 57 58 59]]\n"
          ]
        },
        {
          "data": {
            "text/plain": [
              "52"
            ]
          },
          "execution_count": 19,
          "metadata": {},
          "output_type": "execute_result"
        }
      ],
      "source": [
        "u = np.arange(50,60).reshape(2,5)\n",
        "print(u)\n",
        "\n",
        "# 2D indexing [row(0),column(0)]\n",
        "\n",
        "u[0,2]\n",
        "\n"
      ]
    },
    {
      "cell_type": "code",
      "execution_count": null,
      "metadata": {
        "id": "MTUhMGQe48DA",
        "outputId": "6f45f857-b75f-435b-da3b-3e7a4523a015"
      },
      "outputs": [
        {
          "name": "stdout",
          "output_type": "stream",
          "text": [
            "[1 2]\n",
            "[0 1 2 3 4 5 6 7 8 9]\n",
            "[0 1 2]\n",
            "[3 4 5 6 7 8 9]\n"
          ]
        }
      ],
      "source": [
        "# slicing\n",
        "\n",
        "v = np.arange(0,10)\n",
        "# extract values of index 1 to 3\n",
        "print(v[1:3])\n",
        "#  extract all the vaulues\n",
        "print(v[:])\n",
        "#  extract from 0 to 3\n",
        "print(v[:3])\n",
        "#  extract values from 3\n",
        "print(v[3:])\n"
      ]
    },
    {
      "cell_type": "code",
      "execution_count": null,
      "metadata": {
        "id": "fmmXKTMH48DA",
        "outputId": "8ff4f944-e8cb-435a-f29c-9bdd93c90b7e"
      },
      "outputs": [
        {
          "name": "stdout",
          "output_type": "stream",
          "text": [
            "[[ 0  1  2  3]\n",
            " [ 4  5  6  7]\n",
            " [ 8  9 10 11]\n",
            " [12 13 14 15]]\n",
            "slicing of 1st column and getting all the row values->  [ 0  4  8 12]\n",
            "slicing of 1st row and getting all the column values->  [0 1 2 3]\n",
            "slicing of 1st column  and getting all the row values from 2 to 4 ->  [ 8 12]\n",
            "[4 8]\n"
          ]
        }
      ],
      "source": [
        "# 2D array slicing\n",
        "\n",
        "w = np.arange(0,16).reshape(4,4)\n",
        "print(w)\n",
        "# slicing [row(:), column(:)]- same rule applies\n",
        "print(f'slicing of 1st column and getting all the row values->  {w[:,0]}')\n",
        "print(f'slicing of 1st row and getting all the column values->  {w[0,:]}')\n",
        "print(f'slicing of 1st column  and getting all the row values from 2 to 4 ->  {w[2:4,0]}')\n",
        "\n",
        "print(w[[1,2],0])\n",
        "\n"
      ]
    },
    {
      "cell_type": "code",
      "execution_count": null,
      "metadata": {
        "id": "x4-luEdc48DA",
        "outputId": "4cb40fc1-359d-4b75-8aa9-788f0a7dd85e"
      },
      "outputs": [
        {
          "name": "stdout",
          "output_type": "stream",
          "text": [
            "[[ 4  5  6  7]\n",
            " [ 8  9 10 11]]\n"
          ]
        }
      ],
      "source": [
        "print(w[[1,2], 0:])"
      ]
    },
    {
      "cell_type": "code",
      "execution_count": null,
      "metadata": {
        "id": "fxGb7Ynm48DA",
        "outputId": "863d44cf-e213-47a0-a935-1740694413b3"
      },
      "outputs": [
        {
          "name": "stdout",
          "output_type": "stream",
          "text": [
            "[0 1 2 3]\n",
            "[4 5 6 7]\n",
            "[ 8  9 10 11]\n",
            "[12 13 14 15]\n",
            "[6. 7. 8. 9.]\n"
          ]
        },
        {
          "data": {
            "text/plain": [
              "array([ 6, 22, 38, 54])"
            ]
          },
          "execution_count": 23,
          "metadata": {},
          "output_type": "execute_result"
        }
      ],
      "source": [
        "# iterating\n",
        "x= np.arange(0,16).reshape(4,4)\n",
        "for i in x:\n",
        "    print(i)\n",
        "\n",
        "# axis = 0 , apply aggregate for each column\n",
        "print(np.apply_along_axis(np.mean, axis=0, arr=x))\n",
        "\n",
        "np.apply_along_axis(np.sum, axis=1, arr=x)\n"
      ]
    },
    {
      "cell_type": "code",
      "execution_count": null,
      "metadata": {
        "id": "nDiN49t748DA",
        "outputId": "b4752e24-27bb-40e6-f527-282bac99a281"
      },
      "outputs": [
        {
          "data": {
            "text/plain": [
              "array([[0. , 0.5, 1. , 1.5],\n",
              "       [2. , 2.5, 3. , 3.5],\n",
              "       [4. , 4.5, 5. , 5.5],\n",
              "       [6. , 6.5, 7. , 7.5]])"
            ]
          },
          "execution_count": 24,
          "metadata": {},
          "output_type": "execute_result"
        }
      ],
      "source": [
        "# custom function is also allowed\n",
        "\n",
        "def half(x):\n",
        "    return x/2\n",
        "\n",
        "np.apply_along_axis(half, axis=1, arr=x)"
      ]
    },
    {
      "cell_type": "code",
      "execution_count": null,
      "metadata": {
        "id": "p_4qOZYD48DA",
        "outputId": "d4aeb585-d96a-4dc2-8ca8-da334e98474f"
      },
      "outputs": [
        {
          "name": "stdout",
          "output_type": "stream",
          "text": [
            "[[ True  True  True  True]\n",
            " [False False False  True]\n",
            " [False  True  True  True]\n",
            " [ True False  True False]]\n",
            "[0.79444849 0.50611642 0.92865107 0.98437174 0.79998843 0.8102648\n",
            " 0.93923997 0.52106021 0.5134022  0.91319536]\n"
          ]
        }
      ],
      "source": [
        "# conditions & boolean arrays\n",
        "\n",
        "y = np.random.random((4,4))\n",
        "print(y > 0.5)\n",
        "\n",
        "print(y[y>0.5])"
      ]
    },
    {
      "cell_type": "code",
      "execution_count": null,
      "metadata": {
        "id": "tcw2JVjH48DA",
        "outputId": "0436d4e6-0158-4d4d-d944-c868f4a032e9"
      },
      "outputs": [
        {
          "name": "stdout",
          "output_type": "stream",
          "text": [
            "[0.59539597 0.29346537 0.60536963 0.38207091 0.14468845 0.85267476\n",
            " 0.99496439 0.10422163 0.82651949 0.53129982 0.55105428 0.61871233]\n",
            "[[0.59539597 0.29346537 0.60536963 0.38207091]\n",
            " [0.14468845 0.85267476 0.99496439 0.10422163]\n",
            " [0.82651949 0.53129982 0.55105428 0.61871233]]\n",
            "[0.59539597 0.29346537 0.60536963 0.38207091 0.14468845 0.85267476\n",
            " 0.99496439 0.10422163 0.82651949 0.53129982 0.55105428 0.61871233]\n",
            "[[ 0  1  2  3]\n",
            " [ 4  5  6  7]\n",
            " [ 8  9 10 11]]\n",
            "[[ 0  4  8]\n",
            " [ 1  5  9]\n",
            " [ 2  6 10]\n",
            " [ 3  7 11]]\n"
          ]
        }
      ],
      "source": [
        "# shape manipulation\n",
        "z = np.random.random(12)\n",
        "print(z)\n",
        "za = z.reshape(3,4)\n",
        "print(za)\n",
        "# convert multidimensional array to single dimensional array\n",
        "print(za.ravel())\n",
        "# transpose -> row to col, col to row\n",
        "\n",
        "zb = np.arange(0,12).reshape(3,4)\n",
        "print(zb)\n",
        "\n",
        "# Invert rows with columns\n",
        "print(zb.transpose())\n",
        "\n"
      ]
    },
    {
      "cell_type": "code",
      "execution_count": null,
      "metadata": {
        "id": "B_IwfK1m48DA",
        "outputId": "3278bfb2-1ffe-4636-a33e-6bc575c7ee3b"
      },
      "outputs": [
        {
          "name": "stdout",
          "output_type": "stream",
          "text": [
            "[[1. 1. 1.]\n",
            " [1. 1. 1.]\n",
            " [1. 1. 1.]\n",
            " [0. 0. 0.]\n",
            " [0. 0. 0.]\n",
            " [0. 0. 0.]]\n",
            "[[1. 1. 1. 0. 0. 0.]\n",
            " [1. 1. 1. 0. 0. 0.]\n",
            " [1. 1. 1. 0. 0. 0.]]\n"
          ]
        }
      ],
      "source": [
        "# array manipulation\n",
        "# joining arrays\n",
        "\n",
        "aa = np.ones((3,3))\n",
        "ab = np.zeros((3,3))\n",
        "\n",
        "# Now use vstack to stack two arrays vertically\n",
        "\n",
        "ac = np.vstack((aa,ab))\n",
        "print(ac)\n",
        "\n",
        "#  now use hstack to stack\n",
        "\n",
        "ad = np.hstack((aa,ab))\n",
        "\n",
        "print(ad)"
      ]
    },
    {
      "cell_type": "code",
      "execution_count": null,
      "metadata": {
        "id": "vhLumXt648DB",
        "outputId": "40e17101-4b00-44a0-83b3-c3e0f8e05ba8"
      },
      "outputs": [
        {
          "name": "stdout",
          "output_type": "stream",
          "text": [
            "[[1 2 3]\n",
            " [4 5 6]\n",
            " [7 8 9]]\n",
            "[[1 4 7]\n",
            " [2 5 8]\n",
            " [3 6 9]]\n"
          ]
        }
      ],
      "source": [
        "# stacking of one dimensional arrays using row_stack() and column_stack()\n",
        "ae = np.array([1,2,3])\n",
        "af = np.array([4,5,6])\n",
        "ag = np.array([7,8,9])\n",
        "\n",
        "print(np.row_stack((ae,af,ag)))\n",
        "\n",
        "print(np.column_stack((ae,af,ag)))"
      ]
    },
    {
      "cell_type": "code",
      "execution_count": null,
      "metadata": {
        "id": "ZdDpQnBO48DB",
        "outputId": "3ab96afc-da59-4948-aaa6-b4f654c3e3bb"
      },
      "outputs": [
        {
          "name": "stdout",
          "output_type": "stream",
          "text": [
            "[[ 0  1  2  3]\n",
            " [ 4  5  6  7]\n",
            " [ 8  9 10 11]\n",
            " [12 13 14 15]]\n",
            "[[ 0  1]\n",
            " [ 4  5]\n",
            " [ 8  9]\n",
            " [12 13]] [[ 2  3]\n",
            " [ 6  7]\n",
            " [10 11]\n",
            " [14 15]]\n",
            "[[0 1 2 3]\n",
            " [4 5 6 7]] [[ 8  9 10 11]\n",
            " [12 13 14 15]]\n"
          ]
        }
      ],
      "source": [
        "# spliting arrays\n",
        "\n",
        "ai = np.arange(16).reshape(4,4)\n",
        "\n",
        "print(ai)\n",
        "\n",
        "[aj,ak] = np.hsplit(ai,2)\n",
        "\n",
        "print(aj,ak)\n",
        "\n",
        "[al,am] = np.vsplit(ai,2)\n",
        "\n",
        "print(al,am)"
      ]
    },
    {
      "cell_type": "code",
      "execution_count": null,
      "metadata": {
        "id": "78zz3_DF48DB",
        "outputId": "f8b003db-f85b-49fa-f596-c595e70fb5e5"
      },
      "outputs": [
        {
          "data": {
            "text/plain": [
              "(array([[ 0],\n",
              "        [ 4],\n",
              "        [ 8],\n",
              "        [12]]),\n",
              " array([[ 1,  2],\n",
              "        [ 5,  6],\n",
              "        [ 9, 10],\n",
              "        [13, 14]]),\n",
              " array([[ 3],\n",
              "        [ 7],\n",
              "        [11],\n",
              "        [15]]))"
            ]
          },
          "execution_count": 30,
          "metadata": {},
          "output_type": "execute_result"
        }
      ],
      "source": [
        "# split arrays to nonsymmetrical parts\n",
        "\n",
        "[an,ao,ap]= np.split(ai,[1,3], axis=0)\n",
        "an,ao,ap\n",
        "\n",
        "[aq,ar,a_s]= np.split(ai,[1,3], axis=1)\n",
        "aq,ar,a_s"
      ]
    },
    {
      "cell_type": "code",
      "execution_count": null,
      "metadata": {
        "id": "yUEYPIud48DB",
        "outputId": "bbf45291-aeef-48bd-fa35-241d8c40c4d4"
      },
      "outputs": [
        {
          "name": "stdout",
          "output_type": "stream",
          "text": [
            "[[0 1]\n",
            " [2 3]]\n",
            "[0 1]\n",
            "2\n",
            "1\n"
          ]
        },
        {
          "data": {
            "text/plain": [
              "array([[0, 1],\n",
              "       [0, 3]])"
            ]
          },
          "execution_count": 31,
          "metadata": {},
          "output_type": "execute_result"
        }
      ],
      "source": [
        "# vectorization and broadcasting\n",
        "\n",
        "at = np.arange(4).reshape(2,2)\n",
        "\n",
        "au = np.arange(2)\n",
        "\n",
        "print(at)\n",
        "\n",
        "print(au)\n",
        "\n",
        "print(at.ndim)\n",
        "print(au.ndim)\n",
        "\n",
        "at*au\n",
        "\n",
        "# different dimentions\n",
        "\n",
        "# av = np.arange(6).reshape(3,1,2)\n",
        "# aw = np.arange(6).reshape(3,2,1)\n",
        "\n",
        "# av*aw\n"
      ]
    },
    {
      "cell_type": "code",
      "execution_count": null,
      "metadata": {
        "id": "eZhoAhHy48DB",
        "outputId": "f2cfc631-803c-483d-8586-a536a94c0db9"
      },
      "outputs": [
        {
          "data": {
            "text/plain": [
              "array([b'karthik'], dtype='|S7')"
            ]
          },
          "execution_count": 32,
          "metadata": {},
          "output_type": "execute_result"
        }
      ],
      "source": [
        "# structured array -> array with complex data structure\n",
        "\n",
        "az = np.array([('karthik', 165,  1+2j)], dtype=[('name', 'a7'),('weight','i2'),('com', 'c8')])\n",
        "\n",
        "az['name']"
      ]
    },
    {
      "cell_type": "code",
      "execution_count": null,
      "metadata": {
        "id": "4qHQEc5448DB"
      },
      "outputs": [],
      "source": []
    },
    {
      "cell_type": "code",
      "execution_count": null,
      "metadata": {
        "id": "0_XQo0t-48DC",
        "outputId": "432bcd92-1d9a-4067-f485-b36b70a2f60e"
      },
      "outputs": [
        {
          "ename": "NameError",
          "evalue": "name 'av' is not defined",
          "output_type": "error",
          "traceback": [
            "\u001b[1;31m---------------------------------------------------------------------------\u001b[0m",
            "\u001b[1;31mNameError\u001b[0m                                 Traceback (most recent call last)",
            "\u001b[1;32m~\\AppData\\Local\\Temp/ipykernel_15332/2354437561.py\u001b[0m in \u001b[0;36m<module>\u001b[1;34m\u001b[0m\n\u001b[0;32m      1\u001b[0m \u001b[1;31m# save numpy array in a file and read\u001b[0m\u001b[1;33m\u001b[0m\u001b[1;33m\u001b[0m\u001b[1;33m\u001b[0m\u001b[0m\n\u001b[0;32m      2\u001b[0m \u001b[1;33m\u001b[0m\u001b[0m\n\u001b[1;32m----> 3\u001b[1;33m \u001b[0max\u001b[0m \u001b[1;33m=\u001b[0m \u001b[0mav\u001b[0m\u001b[1;33m*\u001b[0m\u001b[0maw\u001b[0m\u001b[1;33m\u001b[0m\u001b[1;33m\u001b[0m\u001b[0m\n\u001b[0m\u001b[0;32m      4\u001b[0m \u001b[1;33m\u001b[0m\u001b[0m\n\u001b[0;32m      5\u001b[0m \u001b[0mnp\u001b[0m\u001b[1;33m.\u001b[0m\u001b[0msave\u001b[0m\u001b[1;33m(\u001b[0m\u001b[1;34m'sample.npy'\u001b[0m\u001b[1;33m,\u001b[0m \u001b[0max\u001b[0m\u001b[1;33m)\u001b[0m\u001b[1;33m\u001b[0m\u001b[1;33m\u001b[0m\u001b[0m\n",
            "\u001b[1;31mNameError\u001b[0m: name 'av' is not defined"
          ]
        }
      ],
      "source": [
        "# save numpy array in a file and read\n",
        "\n",
        "ax = av*aw\n",
        "\n",
        "np.save('sample.npy', ax)"
      ]
    },
    {
      "cell_type": "code",
      "execution_count": null,
      "metadata": {
        "id": "3MA0ubq948DC",
        "outputId": "9d045211-fffc-4cfa-b999-c8bb652f930d"
      },
      "outputs": [
        {
          "data": {
            "text/plain": [
              "array([[[ 0,  0],\n",
              "        [ 0,  1]],\n",
              "\n",
              "       [[ 4,  6],\n",
              "        [ 6,  9]],\n",
              "\n",
              "       [[16, 20],\n",
              "        [20, 25]]])"
            ]
          },
          "execution_count": 63,
          "metadata": {},
          "output_type": "execute_result"
        }
      ],
      "source": [
        "loaded_data = np.load('sample.npy')\n",
        "\n",
        "loaded_data"
      ]
    }
  ],
  "metadata": {
    "interpreter": {
      "hash": "0d38711d23eb57a44f9256344253dd32add8d18a286ca31006583834ca0b10bb"
    },
    "kernelspec": {
      "display_name": "Python 3.8.0 64-bit ('da': virtualenv)",
      "name": "python3"
    },
    "language_info": {
      "codemirror_mode": {
        "name": "ipython",
        "version": 3
      },
      "file_extension": ".py",
      "mimetype": "text/x-python",
      "name": "python",
      "nbconvert_exporter": "python",
      "pygments_lexer": "ipython3",
      "version": "3.8.0"
    },
    "orig_nbformat": 4,
    "colab": {
      "provenance": []
    }
  },
  "nbformat": 4,
  "nbformat_minor": 0
}